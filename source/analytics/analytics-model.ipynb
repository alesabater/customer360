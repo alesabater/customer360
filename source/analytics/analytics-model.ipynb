{
 "cells": [
  {
   "cell_type": "markdown",
   "metadata": {},
   "source": [
    "### Import all the necessary libraries"
   ]
  },
  {
   "cell_type": "code",
   "execution_count": 10,
   "metadata": {},
   "outputs": [],
   "source": [
    "%matplotlib inline"
   ]
  },
  {
   "cell_type": "code",
   "execution_count": 12,
   "metadata": {
    "scrolled": true
   },
   "outputs": [],
   "source": [
    "import numpy as np\n",
    "import pandas as pd\n",
    "import matplotlib\n",
    "import matplotlib.pyplot as plt\n",
    "from sklearn.cluster import KMeans\n",
    "from sklearn import decomposition"
   ]
  },
  {
   "cell_type": "markdown",
   "metadata": {},
   "source": [
    "### Load the Attributes table from your S3 bucket"
   ]
  },
  {
   "cell_type": "code",
   "execution_count": 17,
   "metadata": {
    "scrolled": true
   },
   "outputs": [],
   "source": [
    "df = pd.read_csv(\"/Users/fetrejo/Downloads/CA/att.csv\").fillna(0)"
   ]
  },
  {
   "cell_type": "code",
   "execution_count": 18,
   "metadata": {},
   "outputs": [
    {
     "data": {
      "text/html": [
       "<div>\n",
       "<style scoped>\n",
       "    .dataframe tbody tr th:only-of-type {\n",
       "        vertical-align: middle;\n",
       "    }\n",
       "\n",
       "    .dataframe tbody tr th {\n",
       "        vertical-align: top;\n",
       "    }\n",
       "\n",
       "    .dataframe thead th {\n",
       "        text-align: right;\n",
       "    }\n",
       "</style>\n",
       "<table border=\"1\" class=\"dataframe\">\n",
       "  <thead>\n",
       "    <tr style=\"text-align: right;\">\n",
       "      <th></th>\n",
       "      <th>business_partner_no</th>\n",
       "      <th>business_partner_name</th>\n",
       "      <th>business_partner_lastname</th>\n",
       "      <th>business_partner_telephone</th>\n",
       "      <th>business_partner_email</th>\n",
       "      <th>relation_start_date</th>\n",
       "      <th>business_partner_birthdate</th>\n",
       "      <th>contract_amount</th>\n",
       "      <th>first_contract_date</th>\n",
       "      <th>contracts</th>\n",
       "      <th>contracts_act</th>\n",
       "      <th>amount_act</th>\n",
       "      <th>first_contract_act_date</th>\n",
       "      <th>switch_amount</th>\n",
       "      <th>switch_dates</th>\n",
       "      <th>avg_billing</th>\n",
       "      <th>avg_kwh</th>\n",
       "    </tr>\n",
       "  </thead>\n",
       "  <tbody>\n",
       "    <tr>\n",
       "      <th>0</th>\n",
       "      <td>97088774</td>\n",
       "      <td>Victoria</td>\n",
       "      <td>Smith</td>\n",
       "      <td>08081570017</td>\n",
       "      <td>dscott@hill.com</td>\n",
       "      <td>2018-06-13</td>\n",
       "      <td>1985-08-26</td>\n",
       "      <td>4</td>\n",
       "      <td>2018-07-05</td>\n",
       "      <td>[359062, 231651, 354092, 708260]</td>\n",
       "      <td>0</td>\n",
       "      <td>0.0</td>\n",
       "      <td>0</td>\n",
       "      <td>4</td>\n",
       "      <td>[2018-07-10, 2018-07-12, 2018-07-05, 2018-07-09]</td>\n",
       "      <td>16.621781</td>\n",
       "      <td>1.662178</td>\n",
       "    </tr>\n",
       "    <tr>\n",
       "      <th>1</th>\n",
       "      <td>28383761</td>\n",
       "      <td>Lynne</td>\n",
       "      <td>Davidson</td>\n",
       "      <td>(0808)1570148</td>\n",
       "      <td>cherylpatterson@stevens.info</td>\n",
       "      <td>2018-10-30</td>\n",
       "      <td>1961-11-08</td>\n",
       "      <td>2</td>\n",
       "      <td>2018-10-31</td>\n",
       "      <td>[278722, 110765]</td>\n",
       "      <td>[278722, 110765]</td>\n",
       "      <td>2.0</td>\n",
       "      <td>2018-10-31</td>\n",
       "      <td>2</td>\n",
       "      <td>[2018-11-28, 2018-10-31]</td>\n",
       "      <td>444.903794</td>\n",
       "      <td>44.490379</td>\n",
       "    </tr>\n",
       "    <tr>\n",
       "      <th>2</th>\n",
       "      <td>41924967</td>\n",
       "      <td>Duncan</td>\n",
       "      <td>French</td>\n",
       "      <td>020 7946 0377</td>\n",
       "      <td>kclark@day.com</td>\n",
       "      <td>2016-08-06</td>\n",
       "      <td>1975-07-28</td>\n",
       "      <td>2</td>\n",
       "      <td>2016-08-12</td>\n",
       "      <td>[573979, 343006]</td>\n",
       "      <td>[573979, 343006]</td>\n",
       "      <td>2.0</td>\n",
       "      <td>2016-08-12</td>\n",
       "      <td>2</td>\n",
       "      <td>[2016-08-23, 2016-08-12]</td>\n",
       "      <td>827.452646</td>\n",
       "      <td>82.745265</td>\n",
       "    </tr>\n",
       "    <tr>\n",
       "      <th>3</th>\n",
       "      <td>64735660</td>\n",
       "      <td>Charles</td>\n",
       "      <td>Harrison</td>\n",
       "      <td>+442074960205</td>\n",
       "      <td>oglover@bennett.com</td>\n",
       "      <td>2018-11-09</td>\n",
       "      <td>1963-09-20</td>\n",
       "      <td>2</td>\n",
       "      <td>2018-11-21</td>\n",
       "      <td>[485309, 766499]</td>\n",
       "      <td>[485309, 766499]</td>\n",
       "      <td>2.0</td>\n",
       "      <td>2018-11-21</td>\n",
       "      <td>2</td>\n",
       "      <td>[2018-12-02, 2018-11-21]</td>\n",
       "      <td>628.186196</td>\n",
       "      <td>62.818620</td>\n",
       "    </tr>\n",
       "    <tr>\n",
       "      <th>4</th>\n",
       "      <td>95387064</td>\n",
       "      <td>Leigh</td>\n",
       "      <td>Gardiner</td>\n",
       "      <td>+44(0)191 496 0871</td>\n",
       "      <td>reedoliver@martin.info</td>\n",
       "      <td>2015-07-12</td>\n",
       "      <td>1974-01-20</td>\n",
       "      <td>3</td>\n",
       "      <td>2015-07-29</td>\n",
       "      <td>[395710, 145340, 809411]</td>\n",
       "      <td>[395710, 145340, 809411]</td>\n",
       "      <td>3.0</td>\n",
       "      <td>2015-07-29</td>\n",
       "      <td>3</td>\n",
       "      <td>[2016-07-29, 2016-08-06, 2016-08-09]</td>\n",
       "      <td>2510.919786</td>\n",
       "      <td>251.091979</td>\n",
       "    </tr>\n",
       "  </tbody>\n",
       "</table>\n",
       "</div>"
      ],
      "text/plain": [
       "   business_partner_no business_partner_name business_partner_lastname  \\\n",
       "0             97088774              Victoria                     Smith   \n",
       "1             28383761                 Lynne                  Davidson   \n",
       "2             41924967                Duncan                    French   \n",
       "3             64735660               Charles                  Harrison   \n",
       "4             95387064                 Leigh                  Gardiner   \n",
       "\n",
       "  business_partner_telephone        business_partner_email  \\\n",
       "0                08081570017               dscott@hill.com   \n",
       "1              (0808)1570148  cherylpatterson@stevens.info   \n",
       "2              020 7946 0377                kclark@day.com   \n",
       "3              +442074960205           oglover@bennett.com   \n",
       "4         +44(0)191 496 0871        reedoliver@martin.info   \n",
       "\n",
       "  relation_start_date business_partner_birthdate  contract_amount  \\\n",
       "0          2018-06-13                 1985-08-26                4   \n",
       "1          2018-10-30                 1961-11-08                2   \n",
       "2          2016-08-06                 1975-07-28                2   \n",
       "3          2018-11-09                 1963-09-20                2   \n",
       "4          2015-07-12                 1974-01-20                3   \n",
       "\n",
       "  first_contract_date                         contracts  \\\n",
       "0          2018-07-05  [359062, 231651, 354092, 708260]   \n",
       "1          2018-10-31                  [278722, 110765]   \n",
       "2          2016-08-12                  [573979, 343006]   \n",
       "3          2018-11-21                  [485309, 766499]   \n",
       "4          2015-07-29          [395710, 145340, 809411]   \n",
       "\n",
       "              contracts_act  amount_act first_contract_act_date  \\\n",
       "0                         0         0.0                       0   \n",
       "1          [278722, 110765]         2.0              2018-10-31   \n",
       "2          [573979, 343006]         2.0              2016-08-12   \n",
       "3          [485309, 766499]         2.0              2018-11-21   \n",
       "4  [395710, 145340, 809411]         3.0              2015-07-29   \n",
       "\n",
       "   switch_amount                                      switch_dates  \\\n",
       "0              4  [2018-07-10, 2018-07-12, 2018-07-05, 2018-07-09]   \n",
       "1              2                          [2018-11-28, 2018-10-31]   \n",
       "2              2                          [2016-08-23, 2016-08-12]   \n",
       "3              2                          [2018-12-02, 2018-11-21]   \n",
       "4              3              [2016-07-29, 2016-08-06, 2016-08-09]   \n",
       "\n",
       "   avg_billing     avg_kwh  \n",
       "0    16.621781    1.662178  \n",
       "1   444.903794   44.490379  \n",
       "2   827.452646   82.745265  \n",
       "3   628.186196   62.818620  \n",
       "4  2510.919786  251.091979  "
      ]
     },
     "execution_count": 18,
     "metadata": {},
     "output_type": "execute_result"
    }
   ],
   "source": [
    "df.head()"
   ]
  },
  {
   "cell_type": "code",
   "execution_count": 19,
   "metadata": {},
   "outputs": [
    {
     "data": {
      "text/plain": [
       "business_partner_no             int64\n",
       "business_partner_name          object\n",
       "business_partner_lastname      object\n",
       "business_partner_telephone     object\n",
       "business_partner_email         object\n",
       "relation_start_date            object\n",
       "business_partner_birthdate     object\n",
       "contract_amount                 int64\n",
       "first_contract_date            object\n",
       "contracts                      object\n",
       "contracts_act                  object\n",
       "amount_act                    float64\n",
       "first_contract_act_date        object\n",
       "switch_amount                   int64\n",
       "switch_dates                   object\n",
       "avg_billing                   float64\n",
       "avg_kwh                       float64\n",
       "dtype: object"
      ]
     },
     "execution_count": 19,
     "metadata": {},
     "output_type": "execute_result"
    }
   ],
   "source": [
    "df.dtypes"
   ]
  },
  {
   "cell_type": "markdown",
   "metadata": {},
   "source": [
    "# Part 1: Customer Segmentation from 2 Columns"
   ]
  },
  {
   "cell_type": "markdown",
   "metadata": {},
   "source": [
    "### Load data from a slected column into each axis (2D)"
   ]
  },
  {
   "cell_type": "code",
   "execution_count": 20,
   "metadata": {},
   "outputs": [],
   "source": [
    "x_axis_df = df['avg_kwh']\n",
    "y_axis_df = df['avg_billing']"
   ]
  },
  {
   "cell_type": "markdown",
   "metadata": {},
   "source": [
    "### Create an array based on the axes"
   ]
  },
  {
   "cell_type": "code",
   "execution_count": 21,
   "metadata": {},
   "outputs": [],
   "source": [
    "T = np.array(list(zip(x_axis_df, y_axis_df)))"
   ]
  },
  {
   "cell_type": "markdown",
   "metadata": {},
   "source": [
    "### Visualise the data points on a scatter plot"
   ]
  },
  {
   "cell_type": "code",
   "execution_count": 43,
   "metadata": {},
   "outputs": [
    {
     "data": {
      "text/plain": [
       "<matplotlib.collections.PathCollection at 0x1a13ad9358>"
      ]
     },
     "execution_count": 43,
     "metadata": {},
     "output_type": "execute_result"
    },
    {
     "data": {
      "image/png": "[encoded data removed]",
      "text/plain": [
       "<matplotlib.figure.Figure at 0x1a13a85278>"
      ]
     },
     "metadata": {},
     "output_type": "display_data"
    }
   ],
   "source": [
    "plt.xlabel(\"avg_kwh\")\n",
    "plt.ylabel(\"avg_billing\")\n",
    "plt.title(\"Raw Data Points\")\n",
    "plt.scatter(x_axis_df, y_axis_df)"
   ]
  },
  {
   "cell_type": "markdown",
   "metadata": {},
   "source": [
    "### Generate an Elbow Curve to find the right value for \"k\""
   ]
  },
  {
   "cell_type": "code",
   "execution_count": 45,
   "metadata": {},
   "outputs": [
    {
     "data": {
      "text/plain": [
       "Text(0.5,1,'Elbow curve')"
      ]
     },
     "execution_count": 45,
     "metadata": {},
     "output_type": "execute_result"
    },
    {
     "data": {
      "image/png": "[encoded data removed]",
      "text/plain": [
       "<matplotlib.figure.Figure at 0x1a13ae0080>"
      ]
     },
     "metadata": {},
     "output_type": "display_data"
    }
   ],
   "source": [
    "distorsions = []\n",
    "rng = range(2, 10) #Limited to 4 since only 4 rows are used rn\n",
    "\n",
    "for k in rng:\n",
    "    kmeans = KMeans(n_clusters = k)\n",
    "    kmeans.fit(T)\n",
    "    distorsions.append(kmeans.inertia_)\n",
    "    \n",
    "fig = plt.figure()\n",
    "ex = fig.add_subplot(111)\n",
    "ex.plot(rng, distorsions)\n",
    "plt.xlabel(\"Number of Clusters\")\n",
    "plt.ylabel(\"Average Distortion\")\n",
    "plt.grid(True)\n",
    "plt.title('Elbow curve')"
   ]
  },
  {
   "cell_type": "markdown",
   "metadata": {},
   "source": [
    "### Perform K-Means clustering on the selected column data"
   ]
  },
  {
   "cell_type": "code",
   "execution_count": 46,
   "metadata": {},
   "outputs": [
    {
     "data": {
      "text/plain": [
       "array([3, 1, 2, 2, 0, 3, 1, 1, 0, 1, 3, 0, 3, 3, 2, 3, 3, 0, 1, 3, 4, 3,\n",
       "       3, 2, 0, 3, 3, 4, 2, 3, 3, 2, 3, 0, 0, 3, 3, 4, 0, 3, 3, 1, 0, 0,\n",
       "       0, 2, 4, 3, 1, 2, 2, 3, 0, 3, 2, 0, 0, 3, 3, 3, 3, 0, 2, 3, 3, 3,\n",
       "       0, 2, 0, 2, 2, 3, 0, 3, 1, 2, 3, 1, 1, 2, 3, 1, 3, 3, 0, 3, 3, 2,\n",
       "       3, 3, 0, 4, 2, 0, 0, 0, 3, 4, 3, 3], dtype=int32)"
      ]
     },
     "execution_count": 46,
     "metadata": {},
     "output_type": "execute_result"
    }
   ],
   "source": [
    "kmeans1 = KMeans(n_clusters=5, random_state=0).fit(T)\n",
    "kmeans1.labels_"
   ]
  },
  {
   "cell_type": "markdown",
   "metadata": {},
   "source": [
    "### List the centres from the clusters"
   ]
  },
  {
   "cell_type": "code",
   "execution_count": 26,
   "metadata": {},
   "outputs": [
    {
     "data": {
      "text/plain": [
       "array([[ 246.10453751, 2461.04537505],\n",
       "       [  41.50474782,  415.04747822],\n",
       "       [  76.31573407,  763.15734066],\n",
       "       [  11.27741662,  112.77416617],\n",
       "       [ 205.59791503, 2055.97915026]])"
      ]
     },
     "execution_count": 26,
     "metadata": {},
     "output_type": "execute_result"
    }
   ],
   "source": [
    "kmeans1.cluster_centers_"
   ]
  },
  {
   "cell_type": "markdown",
   "metadata": {},
   "source": [
    "### Plot your clustered data points"
   ]
  },
  {
   "cell_type": "code",
   "execution_count": 47,
   "metadata": {},
   "outputs": [
    {
     "data": {
      "text/plain": [
       "Text(0.5,1,'Clustered Attribute Row Data by Colours')"
      ]
     },
     "execution_count": 47,
     "metadata": {},
     "output_type": "execute_result"
    },
    {
     "data": {
      "image/png": "[encoded data removed]",
      "text/plain": [
       "<matplotlib.figure.Figure at 0x1a13cc0b70>"
      ]
     },
     "metadata": {},
     "output_type": "display_data"
    }
   ],
   "source": [
    "plt.subplot(221)\n",
    "plt.xlabel(\"avg_kwh\")\n",
    "plt.ylabel(\"avg_billing\")\n",
    "plt.grid(True)\n",
    "plt.scatter(T[:, 0], T[:, 1], c=kmeans1.labels_)\n",
    "plt.title(\"Clustered Attribute Row Data by Colours\")"
   ]
  },
  {
   "cell_type": "markdown",
   "metadata": {},
   "source": [
    "### Visualise the centroids of the clusters"
   ]
  },
  {
   "cell_type": "code",
   "execution_count": 50,
   "metadata": {},
   "outputs": [
    {
     "data": {
      "text/plain": [
       "Text(0.5,1,'Clustered Attribute Data (2 Columns) with Centroids')"
      ]
     },
     "execution_count": 50,
     "metadata": {},
     "output_type": "execute_result"
    },
    {
     "data": {
      "image/png": "[encoded data removed]",
      "text/plain": [
       "<matplotlib.figure.Figure at 0x1a13ef9b00>"
      ]
     },
     "metadata": {},
     "output_type": "display_data"
    }
   ],
   "source": [
    "plt.xlabel(\"avg_kwh\")\n",
    "plt.ylabel(\"avg_billing\")\n",
    "plt.grid(True)\n",
    "plt.scatter(T[:, 0], T[:, 1], c=kmeans1.labels_)\n",
    "plt.scatter(kmeans1.cluster_centers_[:,0] ,kmeans1.cluster_centers_[:,1], color='black')\n",
    "plt.title(\"Clustered Attribute Data (2 Columns) with Centroids\")"
   ]
  },
  {
   "cell_type": "markdown",
   "metadata": {},
   "source": [
    "# Part 2: Customer Segmentation with Numeric Columns"
   ]
  },
  {
   "cell_type": "markdown",
   "metadata": {},
   "source": [
    "### Create a Pandas DataFrame from numeric columns"
   ]
  },
  {
   "cell_type": "code",
   "execution_count": 52,
   "metadata": {},
   "outputs": [],
   "source": [
    "X = df.loc[:,[c for c in df.columns if (c==\"business_partner_no\" or c==\"business_partner_no\" or c==\"contract_amount\" or c==\"amount_act\" or c==\"switch_amount\" or c==\"avg_billing\" or c==\"avg_kwh\")]]"
   ]
  },
  {
   "cell_type": "markdown",
   "metadata": {},
   "source": [
    "### Generate an Elbow Curve to find the right value for \"k\""
   ]
  },
  {
   "cell_type": "code",
   "execution_count": 53,
   "metadata": {},
   "outputs": [
    {
     "data": {
      "text/plain": [
       "Text(0.5,1,'Elbow curve')"
      ]
     },
     "execution_count": 53,
     "metadata": {},
     "output_type": "execute_result"
    },
    {
     "data": {
      "image/png": "[encoded data removed]",
      "text/plain": [
       "<matplotlib.figure.Figure at 0x1a140d2f98>"
      ]
     },
     "metadata": {},
     "output_type": "display_data"
    }
   ],
   "source": [
    "distorsions = []\n",
    "rng = range(2,10)\n",
    "for k in rng:\n",
    "    kmeans = KMeans(n_clusters=k)\n",
    "    kmeans.fit(X)\n",
    "    distorsions.append(kmeans.inertia_)\n",
    "\n",
    "fig = plt.figure()\n",
    "ex = fig.add_subplot(111)\n",
    "ex.plot(rng, distorsions)\n",
    "#plt.ylim([0, 45]) - to be used when more data is loaded\n",
    "plt.xlabel(\"Number of Clusters\")\n",
    "plt.ylabel(\"Average Distortion\")\n",
    "plt.grid(True)\n",
    "plt.title('Elbow curve')"
   ]
  },
  {
   "cell_type": "markdown",
   "metadata": {},
   "source": [
    "### Perform K-Means clustering on the selected column data"
   ]
  },
  {
   "cell_type": "code",
   "execution_count": 54,
   "metadata": {},
   "outputs": [
    {
     "data": {
      "text/plain": [
       "array([4, 1, 3, 0, 4, 2, 0, 4, 2, 1, 3, 2, 0, 3, 1, 2, 0, 3, 0, 3, 0, 4,\n",
       "       3, 0, 3, 1, 0, 0, 2, 1, 0, 3, 1, 1, 0, 2, 1, 0, 1, 4, 3, 2, 0, 3,\n",
       "       0, 2, 0, 2, 2, 4, 3, 2, 3, 3, 3, 3, 1, 4, 3, 2, 0, 2, 1, 3, 1, 2,\n",
       "       3, 4, 3, 2, 4, 3, 0, 1, 4, 3, 0, 2, 2, 2, 2, 4, 1, 4, 4, 3, 3, 3,\n",
       "       2, 4, 2, 0, 0, 1, 1, 2, 2, 1, 4, 1], dtype=int32)"
      ]
     },
     "execution_count": 54,
     "metadata": {},
     "output_type": "execute_result"
    }
   ],
   "source": [
    "kmeans = KMeans(n_clusters=5, random_state=0).fit(X)\n",
    "kmeans.labels_"
   ]
  },
  {
   "cell_type": "markdown",
   "metadata": {},
   "source": [
    "### List the centres from the clusters"
   ]
  },
  {
   "cell_type": "code",
   "execution_count": 55,
   "metadata": {},
   "outputs": [
    {
     "data": {
      "text/plain": [
       "array([[6.44454652e+07, 2.95000000e+00, 1.95000000e+00, 2.95000000e+00,\n",
       "        1.16414056e+03, 1.16414056e+02],\n",
       "       [2.29562048e+07, 3.00000000e+00, 1.66666667e+00, 3.00000000e+00,\n",
       "        9.60419462e+02, 9.60419462e+01],\n",
       "       [8.03182966e+07, 2.91304348e+00, 1.52173913e+00, 2.91304348e+00,\n",
       "        7.73068512e+02, 7.73068512e+01],\n",
       "       [4.42775820e+07, 3.04166667e+00, 1.54166667e+00, 3.04166667e+00,\n",
       "        1.00435775e+03, 1.00435775e+02],\n",
       "       [9.36179017e+07, 2.93333333e+00, 1.33333333e+00, 2.93333333e+00,\n",
       "        6.34884305e+02, 6.34884305e+01]])"
      ]
     },
     "execution_count": 55,
     "metadata": {},
     "output_type": "execute_result"
    }
   ],
   "source": [
    "kmeans.cluster_centers_"
   ]
  },
  {
   "cell_type": "markdown",
   "metadata": {},
   "source": [
    "### Perform linear dimensionality reduction using Principal Component Analysis (PCA)"
   ]
  },
  {
   "cell_type": "code",
   "execution_count": 56,
   "metadata": {},
   "outputs": [],
   "source": [
    "X_prime = decomposition.PCA(n_components=2).fit_transform(X)"
   ]
  },
  {
   "cell_type": "markdown",
   "metadata": {},
   "source": [
    "### Revise PCA array dimensions as a tuple (rows, columns)"
   ]
  },
  {
   "cell_type": "code",
   "execution_count": 57,
   "metadata": {},
   "outputs": [
    {
     "data": {
      "text/plain": [
       "(100, 2)"
      ]
     },
     "execution_count": 57,
     "metadata": {},
     "output_type": "execute_result"
    }
   ],
   "source": [
    "np.shape(X_prime)"
   ]
  },
  {
   "cell_type": "markdown",
   "metadata": {},
   "source": [
    "### Review the PCA 2-dimensional array"
   ]
  },
  {
   "cell_type": "code",
   "execution_count": 58,
   "metadata": {},
   "outputs": [
    {
     "name": "stdout",
     "output_type": "stream",
     "text": [
      "[[-3.69250510e+07 -7.27490174e+02]\n",
      " [ 3.17799620e+07 -6.32327299e+02]\n",
      " [ 1.82387560e+07 -1.81794087e+02]\n",
      " [-4.57193695e+06 -2.70745663e+02]\n",
      " [-3.52233409e+07  1.77094653e+03]\n",
      " [-1.47404220e+07 -7.84815985e+02]\n",
      " [-4.64016295e+06 -5.68596813e+02]\n",
      " [-2.90668640e+07 -2.18456018e+02]\n",
      " [-1.30678139e+07  1.51561487e+03]\n",
      " [ 3.77054920e+07 -6.37147813e+02]\n",
      " [ 1.82088320e+07 -7.99881788e+02]\n",
      " [-2.35589789e+07  1.50384849e+03]\n",
      " [ 2.09819105e+06 -8.24016348e+02]\n",
      " [ 2.33894460e+07 -7.81568752e+02]\n",
      " [ 3.02124600e+07 -3.07016959e+02]\n",
      " [-1.67833760e+07 -6.28362034e+02]\n",
      " [-1.03446610e+07 -7.38313424e+02]\n",
      " [ 2.22907421e+07  1.47067522e+03]\n",
      " [-4.55836395e+06 -3.98945564e+02]\n",
      " [ 6.51734105e+06 -8.83021992e+02]\n",
      " [-7.26315594e+06  1.10747269e+03]\n",
      " [-3.40800520e+07 -7.58077498e+02]\n",
      " [ 1.50947780e+07 -8.99532226e+02]\n",
      " [-7.54969395e+06 -3.47595645e+01]\n",
      " [ 2.56140081e+07  1.55237613e+03]\n",
      " [ 3.55950150e+07 -1.01410771e+03]\n",
      " [-1.04341295e+06 -8.38785059e+02]\n",
      " [-1.11310309e+07  1.30246638e+03]\n",
      " [-2.60534920e+07 -1.44838003e+02]\n",
      " [ 3.46722810e+07 -1.09356338e+03]\n",
      " [-6.04118995e+06 -7.31222573e+02]\n",
      " [ 7.21910005e+06 -1.99684044e+01]\n",
      " [ 2.74342930e+07 -9.45504814e+02]\n",
      " [ 4.55825471e+07  1.22035449e+03]\n",
      " [ 3.87376606e+06  1.42974169e+03]\n",
      " [-2.05678500e+07 -7.22743993e+02]\n",
      " [ 4.97442750e+07 -1.03070340e+03]\n",
      " [-4.42550195e+06  9.94122788e+02]\n",
      " [ 3.02386551e+07  1.43507575e+03]\n",
      " [-3.30444590e+07 -6.68478703e+02]\n",
      " [ 1.66726930e+07 -8.73086589e+02]\n",
      " [-1.35948370e+07 -4.68460073e+02]\n",
      " [-1.06363609e+07  1.58026137e+03]\n",
      " [ 1.25300451e+07  1.52083531e+03]\n",
      " [-5.55604094e+06  1.43041153e+03]\n",
      " [-1.51144069e+07  1.13363409e+02]\n",
      " [ 4.32143306e+06  1.10748947e+03]\n",
      " [-2.21346650e+07 -5.86851235e+02]\n",
      " [-2.42303450e+07 -4.52632922e+02]\n",
      " [-3.09431800e+07 -7.63139634e+01]\n",
      " [ 1.09119170e+07 -2.63001181e+02]\n",
      " [-1.38916540e+07 -7.66003214e+02]\n",
      " [ 2.51872761e+07  1.24800767e+03]\n",
      " [ 9.43527305e+06 -8.57460865e+02]\n",
      " [ 1.31501780e+07 -3.35854404e+02]\n",
      " [ 1.73092451e+07  1.84601822e+03]\n",
      " [ 2.84918671e+07  1.42692322e+03]\n",
      " [-2.92278070e+07 -5.61054398e+02]\n",
      " [ 1.15623190e+07 -8.38752031e+02]\n",
      " [-1.55078150e+07 -7.55679707e+02]\n",
      " [-4.44988195e+06 -8.52014663e+02]\n",
      " [-2.26435749e+07  1.59903294e+03]\n",
      " [ 3.40296230e+07 -4.86134907e+02]\n",
      " [ 2.34671710e+07 -9.32635176e+02]\n",
      " [ 3.98748090e+07 -9.97768766e+02]\n",
      " [-2.14990070e+07 -6.79985360e+02]\n",
      " [ 2.13510041e+07  1.50368508e+03]\n",
      " [-3.39286230e+07 -1.05404934e+01]\n",
      " [ 1.21618781e+07  1.43018370e+03]\n",
      " [-1.92184480e+07 -1.42750134e+02]\n",
      " [-3.49050730e+07  4.14864105e+00]\n",
      " [ 1.27538010e+07 -8.86700456e+02]\n",
      " [ 1.43172706e+06  1.50433726e+03]\n",
      " [ 4.36122170e+07 -1.05393657e+03]\n",
      " [-3.54335080e+07 -4.53873661e+02]\n",
      " [ 1.59007781e+07 -8.41901216e+00]\n",
      " [-7.84294895e+06 -8.86103166e+02]\n",
      " [-1.79077260e+07 -5.60139780e+02]\n",
      " [-2.52819260e+07 -3.29230996e+02]\n",
      " [-2.44612560e+07 -4.73601210e+01]\n",
      " [-1.93047160e+07 -7.64309044e+02]\n",
      " [-3.18457220e+07 -2.88732000e+02]\n",
      " [ 3.87773360e+07 -1.06842469e+03]\n",
      " [-3.73391770e+07 -6.85125837e+02]\n",
      " [-2.87142139e+07  2.02691547e+03]\n",
      " [ 1.08456730e+07 -8.54397614e+02]\n",
      " [ 2.22113620e+07 -9.06044593e+02]\n",
      " [ 9.24376805e+06 -7.03238049e+01]\n",
      " [-1.91415620e+07 -6.80638451e+02]\n",
      " [-3.83087230e+07 -5.83107582e+02]\n",
      " [-2.21247289e+07  1.70858663e+03]\n",
      " [-8.44093394e+06  1.29089262e+03]\n",
      " [ 1.13531705e+06 -2.74390785e+02]\n",
      " [ 4.55724361e+07  1.23724842e+03]\n",
      " [ 4.23296101e+07  1.32498001e+03]\n",
      " [-2.60966459e+07  1.62557326e+03]\n",
      " [-2.66299450e+07 -6.80599025e+02]\n",
      " [ 3.38253831e+07  1.01510706e+03]\n",
      " [-3.28268860e+07 -6.16950887e+02]\n",
      " [ 4.02570660e+07 -9.26122098e+02]]\n"
     ]
    }
   ],
   "source": [
    "print(X_prime)"
   ]
  },
  {
   "cell_type": "markdown",
   "metadata": {},
   "source": [
    "### Plot your clustered data points"
   ]
  },
  {
   "cell_type": "code",
   "execution_count": 62,
   "metadata": {},
   "outputs": [
    {
     "data": {
      "text/plain": [
       "Text(0.5,1,'Clustered Attribute Row Data by Colours')"
      ]
     },
     "execution_count": 62,
     "metadata": {},
     "output_type": "execute_result"
    },
    {
     "data": {
      "image/png": "[encoded data removed]",
      "text/plain": [
       "<matplotlib.figure.Figure at 0x1a1429a2e8>"
      ]
     },
     "metadata": {},
     "output_type": "display_data"
    }
   ],
   "source": [
    "plt.subplot(221)\n",
    "plt.scatter(X_prime[:, 0], X_prime[:, 1], c=kmeans.labels_)\n",
    "plt.title(\"Clustered Attribute Row Data by Colours\")"
   ]
  },
  {
   "cell_type": "markdown",
   "metadata": {},
   "source": [
    "### Visualise the centroids of the clusters"
   ]
  },
  {
   "cell_type": "code",
   "execution_count": 64,
   "metadata": {},
   "outputs": [
    {
     "data": {
      "text/plain": [
       "Text(0.5,1,'Clustered Attribute Row Data with Centroids')"
      ]
     },
     "execution_count": 64,
     "metadata": {},
     "output_type": "execute_result"
    },
    {
     "data": {
      "image/png": "[encoded data removed]",
      "text/plain": [
       "<matplotlib.figure.Figure at 0x1a146c4a90>"
      ]
     },
     "metadata": {},
     "output_type": "display_data"
    }
   ],
   "source": [
    "plt.scatter(X_prime[:, 0], X_prime[:, 1], c=kmeans.labels_)\n",
    "plt.scatter(kmeans.cluster_centers_[:,0] ,kmeans.cluster_centers_[:,1], color='black')\n",
    "plt.title(\"Clustered Attribute Row Data with Centroids\")"
   ]
  },
  {
   "cell_type": "markdown",
   "metadata": {},
   "source": [
    "# Part 3: Cluster Prediction for New Client"
   ]
  },
  {
   "cell_type": "markdown",
   "metadata": {},
   "source": [
    "### Create an array based on the new row from the Attributes table:"
   ]
  },
  {
   "cell_type": "code",
   "execution_count": 65,
   "metadata": {},
   "outputs": [],
   "source": [
    "array = np.array([[64803886,2,2,2,331.48178895095634,33.14817889509563], [64803886,2,2,2,331.48178895095634,33.14817889509563]])"
   ]
  },
  {
   "cell_type": "markdown",
   "metadata": {},
   "source": [
    "### Predict the client's cluster based on the trained k-means algorithm:"
   ]
  },
  {
   "cell_type": "code",
   "execution_count": 66,
   "metadata": {},
   "outputs": [
    {
     "data": {
      "text/plain": [
       "array([0, 0], dtype=int32)"
      ]
     },
     "execution_count": 66,
     "metadata": {},
     "output_type": "execute_result"
    }
   ],
   "source": [
    "kmeans.predict(array)"
   ]
  }
 ],
 "metadata": {
  "kernelspec": {
   "display_name": "Python 3",
   "language": "python",
   "name": "python3"
  },
  "language_info": {
   "codemirror_mode": {
    "name": "ipython",
    "version": 3
   },
   "file_extension": ".py",
   "mimetype": "text/x-python",
   "name": "python",
   "nbconvert_exporter": "python",
   "pygments_lexer": "ipython3",
   "version": "3.6.4"
  }
 },
 "nbformat": 4,
 "nbformat_minor": 2
}
